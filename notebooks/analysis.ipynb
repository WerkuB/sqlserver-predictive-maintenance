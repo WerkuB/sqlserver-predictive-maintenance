{
 "cells": [
  {
   "cell_type": "code",
   "execution_count": null,
   "id": "a3af4e03",
   "metadata": {
    "vscode": {
     "languageId": "plaintext"
    }
   },
   "outputs": [],
   "source": [
    "import pandas as pd\n",
    "import matplotlib.pyplot as plt\n",
    "\n",
    "# Load dataset with anomaly labels\n",
    "df = pd.read_csv(\"../data/metrics_with_anomaly.csv\")\n",
    "\n",
    "# Preview data\n",
    "df.head()\n",
    "\n",
    "# Plot CPU utilization\n",
    "plt.figure(figsize=(10,5))\n",
    "plt.plot(df[\"cpu_BatchRequestsPerSec\"], label=\"Batch Requests/sec\")\n",
    "plt.scatter(df.index[df[\"anomaly\"] == \"anomaly\"], \n",
    "            df.loc[df[\"anomaly\"] == \"anomaly\", \"cpu_BatchRequestsPerSec\"], \n",
    "            color=\"red\", label=\"Anomaly\")\n",
    "plt.title(\"CPU Load with Anomalies\")\n",
    "plt.legend()\n",
    "plt.show()\n",
    "\n",
    "# Plot Memory Utilization\n",
    "plt.figure(figsize=(10,5))\n",
    "plt.plot(df[\"MemoryUtilization\"], label=\"Memory Utilization\")\n",
    "plt.scatter(df.index[df[\"anomaly\"] == \"anomaly\"], \n",
    "            df.loc[df[\"anomaly\"] == \"anomaly\", \"MemoryUtilization\"], \n",
    "            color=\"red\", label=\"Anomaly\")\n",
    "plt.title(\"Memory Utilization with Anomalies\")\n",
    "plt.legend()\n",
    "plt.show()"
   ]
  }
 ],
 "metadata": {
  "language_info": {
   "name": "python"
  }
 },
 "nbformat": 4,
 "nbformat_minor": 5
}
